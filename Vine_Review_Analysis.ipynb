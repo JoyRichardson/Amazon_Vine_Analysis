{
  "nbformat": 4,
  "nbformat_minor": 0,
  "metadata": {
    "colab": {
      "name": "Vine_Review_Analysis.ipynb",
      "provenance": [],
      "collapsed_sections": []
    },
    "kernelspec": {
      "name": "python3",
      "display_name": "Python 3"
    },
    "nteract": {
      "version": "0.12.3"
    },
    "language_info": {
      "name": "python"
    }
  },
  "cells": [
    {
      "cell_type": "code",
      "metadata": {
        "id": "V58rxea0HqSa",
        "colab": {
          "base_uri": "https://localhost:8080/"
        },
        "outputId": "6220fc7d-9874-468b-e4ab-8569331b31c3"
      },
      "source": [
        "import os\n",
        "# Find the latest version of spark 3.0 from http://www.apache.org/dist/spark/ and enter as the spark version\n",
        "# For example:\n",
        "# spark_version = 'spark-3.0.3'\n",
        "spark_version = 'spark-3.0.3'\n",
        "os.environ['SPARK_VERSION']=spark_version\n",
        "\n",
        "# Install Spark and Java\n",
        "!apt-get update\n",
        "!apt-get install openjdk-11-jdk-headless -qq > /dev/null\n",
        "!wget -q http://www.apache.org/dist/spark/$SPARK_VERSION/$SPARK_VERSION-bin-hadoop2.7.tgz\n",
        "!tar xf $SPARK_VERSION-bin-hadoop2.7.tgz\n",
        "!pip install -q findspark\n",
        "\n",
        "# Set Environment Variables\n",
        "import os\n",
        "os.environ[\"JAVA_HOME\"] = \"/usr/lib/jvm/java-11-openjdk-amd64\"\n",
        "os.environ[\"SPARK_HOME\"] = f\"/content/{spark_version}-bin-hadoop2.7\"\n",
        "\n",
        "# Start a SparkSession\n",
        "import findspark\n",
        "findspark.init()"
      ],
      "execution_count": 1,
      "outputs": [
        {
          "output_type": "stream",
          "name": "stdout",
          "text": [
            "\r0% [Working]\r            \rGet:1 http://security.ubuntu.com/ubuntu bionic-security InRelease [88.7 kB]\n",
            "\r0% [Connecting to archive.ubuntu.com (91.189.88.142)] [1 InRelease 14.2 kB/88.7\r0% [Connecting to archive.ubuntu.com (91.189.88.142)] [Connected to cloud.r-pro\r                                                                               \rGet:2 https://cloud.r-project.org/bin/linux/ubuntu bionic-cran40/ InRelease [3,626 B]\n",
            "Hit:3 http://ppa.launchpad.net/c2d4u.team/c2d4u4.0+/ubuntu bionic InRelease\n",
            "Hit:4 http://archive.ubuntu.com/ubuntu bionic InRelease\n",
            "Get:5 http://archive.ubuntu.com/ubuntu bionic-updates InRelease [88.7 kB]\n",
            "Hit:6 http://ppa.launchpad.net/cran/libgit2/ubuntu bionic InRelease\n",
            "Ign:7 https://developer.download.nvidia.com/compute/cuda/repos/ubuntu1804/x86_64  InRelease\n",
            "Hit:8 http://ppa.launchpad.net/deadsnakes/ppa/ubuntu bionic InRelease\n",
            "Ign:9 https://developer.download.nvidia.com/compute/machine-learning/repos/ubuntu1804/x86_64  InRelease\n",
            "Get:10 http://security.ubuntu.com/ubuntu bionic-security/universe amd64 Packages [1,430 kB]\n",
            "Hit:11 https://developer.download.nvidia.com/compute/cuda/repos/ubuntu1804/x86_64  Release\n",
            "Hit:12 https://developer.download.nvidia.com/compute/machine-learning/repos/ubuntu1804/x86_64  Release\n",
            "Get:13 http://archive.ubuntu.com/ubuntu bionic-backports InRelease [74.6 kB]\n",
            "Hit:14 http://ppa.launchpad.net/graphics-drivers/ppa/ubuntu bionic InRelease\n",
            "Get:15 http://archive.ubuntu.com/ubuntu bionic-updates/universe amd64 Packages [2,208 kB]\n",
            "Get:16 http://archive.ubuntu.com/ubuntu bionic-updates/main amd64 Packages [2,800 kB]\n",
            "Fetched 6,695 kB in 4s (1,653 kB/s)\n",
            "Reading package lists... Done\n"
          ]
        }
      ]
    },
    {
      "cell_type": "code",
      "metadata": {
        "id": "_xKwTpATHqSe",
        "colab": {
          "base_uri": "https://localhost:8080/"
        },
        "outputId": "8b0f33ae-bcde-48e6-d5a2-301ca9c63030"
      },
      "source": [
        "# Download the Postgres driver that will allow Spark to interact with Postgres.\n",
        "!wget https://jdbc.postgresql.org/download/postgresql-42.2.16.jar"
      ],
      "execution_count": 2,
      "outputs": [
        {
          "output_type": "stream",
          "name": "stdout",
          "text": [
            "--2021-10-03 02:54:59--  https://jdbc.postgresql.org/download/postgresql-42.2.16.jar\n",
            "Resolving jdbc.postgresql.org (jdbc.postgresql.org)... 72.32.157.228, 2001:4800:3e1:1::228\n",
            "Connecting to jdbc.postgresql.org (jdbc.postgresql.org)|72.32.157.228|:443... connected.\n",
            "HTTP request sent, awaiting response... 200 OK\n",
            "Length: 1002883 (979K) [application/java-archive]\n",
            "Saving to: ‘postgresql-42.2.16.jar’\n",
            "\n",
            "postgresql-42.2.16. 100%[===================>] 979.38K  5.64MB/s    in 0.2s    \n",
            "\n",
            "2021-10-03 02:54:59 (5.64 MB/s) - ‘postgresql-42.2.16.jar’ saved [1002883/1002883]\n",
            "\n"
          ]
        }
      ]
    },
    {
      "cell_type": "code",
      "metadata": {
        "id": "MMqDAjVS0KN9"
      },
      "source": [
        "# Run the Spark installation and then start a Spark session.\n",
        "from pyspark.sql import SparkSession\n",
        "spark = SparkSession.builder.appName(\"M16-Amazon-Challenge\").config(\"spark.driver.extraClassPath\",\"/content/postgresql-42.2.16.jar\").getOrCreate()"
      ],
      "execution_count": 3,
      "outputs": []
    },
    {
      "cell_type": "markdown",
      "metadata": {
        "id": "cyBsySGuY-9V"
      },
      "source": [
        "### Load Amazon Data into Spark DataFrame"
      ]
    },
    {
      "cell_type": "code",
      "metadata": {
        "id": "CtCmBhQJY-9Z",
        "colab": {
          "base_uri": "https://localhost:8080/"
        },
        "outputId": "e94786c3-05ad-45d9-ada8-b2971e3d48ec"
      },
      "source": [
        "from pyspark import SparkFiles\n",
        "url = \"https://s3.amazonaws.com/amazon-reviews-pds/tsv/amazon_reviews_us_Gift_Card_v1_00.tsv.gz\"\n",
        "spark.sparkContext.addFile(url)\n",
        "cards_df = spark.read.option(\"encoding\", \"UTF-8\").csv(SparkFiles.get(\"amazon_reviews_us_Gift_Card_v1_00.tsv.gz\"), sep=\"\\t\", header=True, inferSchema=True)\n",
        "cards_df.show()"
      ],
      "execution_count": 4,
      "outputs": [
        {
          "output_type": "stream",
          "name": "stdout",
          "text": [
            "+-----------+-----------+--------------+----------+--------------+--------------------+----------------+-----------+-------------+-----------+----+-----------------+--------------------+--------------------+-----------+\n",
            "|marketplace|customer_id|     review_id|product_id|product_parent|       product_title|product_category|star_rating|helpful_votes|total_votes|vine|verified_purchase|     review_headline|         review_body|review_date|\n",
            "+-----------+-----------+--------------+----------+--------------+--------------------+----------------+-----------+-------------+-----------+----+-----------------+--------------------+--------------------+-----------+\n",
            "|         US|   24371595|R27ZP1F1CD0C3Y|B004LLIL5A|     346014806|Amazon eGift Card...|       Gift Card|          5|            0|          0|   N|                Y|          Five Stars|Great birthday gi...| 2015-08-31|\n",
            "|         US|   42489718| RJ7RSBCHUDNNE|B004LLIKVU|     473048287|Amazon.com eGift ...|       Gift Card|          5|            0|          0|   N|                Y|Gift card for the...|It's an Amazon gi...| 2015-08-31|\n",
            "|         US|     861463|R1HVYBSKLQJI5S|B00IX1I3G6|     926539283|Amazon.com Gift C...|       Gift Card|          5|            0|          0|   N|                Y|          Five Stars|                Good| 2015-08-31|\n",
            "|         US|   25283295|R2HAXF0IIYQBIR|B00IX1I3G6|     926539283|Amazon.com Gift C...|       Gift Card|          1|            0|          0|   N|                Y|            One Star|                Fair| 2015-08-31|\n",
            "|         US|     397970| RNYLPX611NB7Q|B005ESMGV4|     379368939|Amazon.com Gift C...|       Gift Card|          5|            0|          0|   N|                Y|          Five Stars|I can't believe h...| 2015-08-31|\n",
            "|         US|   18513645|R3ALA9XXMBEDZR|B004KNWWU4|     326384774|Amazon Gift Card ...|       Gift Card|          5|            0|          0|   N|                Y|Perfect for most ...|Perfect!  Nice & ...| 2015-08-31|\n",
            "|         US|   22484620|R3R8PHAVJFTPDF|B004LLIKVU|     473048287|Amazon.com eGift ...|       Gift Card|          5|            0|          0|   N|                Y|          Five Stars|            excelent| 2015-08-31|\n",
            "|         US|   14765851|R18WWEK8OIXE30|BT00CTP2EE|     775486538|Amazon.com Gift C...|       Gift Card|          5|            0|          0|   N|                Y|          Five Stars|Great and Safe Gi...| 2015-08-31|\n",
            "|         US|   18751931|R1EGUNQON2J277|B004LLIKVU|     473048287|Amazon.com eGift ...|       Gift Card|          1|            0|          0|   N|                Y|            One Star|       What?????????| 2015-08-31|\n",
            "|         US|   15100528|R21Z4M4L98CPU2|B004W8D102|     595099956|Amazon Gift Card ...|       Gift Card|          5|            0|          0|   N|                Y|          Five Stars|This was just too...| 2015-08-31|\n",
            "|         US|    3559726| R6JH7A117FHFA|B004LLIKVU|     473048287|Amazon.com eGift ...|       Gift Card|          5|            0|          0|   N|                Y|          Five Stars|                Bien| 2015-08-31|\n",
            "|         US|   23413911|R1XZHS8M1GCGI7|B004KNWWU4|     326384774|Amazon Gift Card ...|       Gift Card|          5|            1|          1|   N|                Y|         Always good|Easy to print fro...| 2015-08-31|\n",
            "|         US|    2026222|R1DAI0N03SKRJN|B004LLIKVU|     473048287|Amazon.com eGift ...|       Gift Card|          5|            1|          1|   N|                Y|          Five Stars|Amazing with 10 d...| 2015-08-31|\n",
            "|         US|   32956435|R2F6SKZOEYQRU3|B004LLIKVU|     473048287|Amazon.com eGift ...|       Gift Card|          5|            0|          0|   N|                N|          Five Stars|Remember Matthew ...| 2015-08-31|\n",
            "|         US|   20241560| RIBOP6OEAZA47|B00H5BNLUS|     637715957|Amazon eGift Card...|       Gift Card|          5|            1|          1|   N|                Y|          Five Stars|                good| 2015-08-31|\n",
            "|         US|   10670435|R15H8E7WD6XD29|B004KNWX6C|     763371347|Amazon Gift Card ...|       Gift Card|          5|            0|          0|   N|                Y|          Five Stars|Awesome way to se...| 2015-08-31|\n",
            "|         US|   48872127| RVN4P3RU4F8IE|BT00CTOYC0|     506740729|Amazon.com $15 Gi...|       Gift Card|          5|            0|          0|   N|                Y|Quick Solution fo...|I love that I hav...| 2015-08-31|\n",
            "|         US|     460630| RCS8F9JCAAXC7|B004LLIKVU|     473048287|Amazon.com eGift ...|       Gift Card|          4|            0|          0|   N|                Y|          Four Stars|Good gift. Easy t...| 2015-08-31|\n",
            "|         US|   41238378| R6811C4E7UYL2|B00H5BMH44|      81025991|Amazon eGift Card...|       Gift Card|          5|            0|          0|   N|                Y|  Satisfied customer|Satisfied as usua...| 2015-08-31|\n",
            "|         US|   14222739|R196T0NZ73TYIM|B005ESMMKE|     459536087|Amazon.com Gift C...|       Gift Card|          5|            1|          1|   N|                Y|          Five Stars|                nice| 2015-08-31|\n",
            "+-----------+-----------+--------------+----------+--------------+--------------------+----------------+-----------+-------------+-----------+----+-----------------+--------------------+--------------------+-----------+\n",
            "only showing top 20 rows\n",
            "\n"
          ]
        }
      ]
    },
    {
      "cell_type": "code",
      "metadata": {
        "id": "p4fMaFSthKgl"
      },
      "source": [
        ""
      ],
      "execution_count": null,
      "outputs": []
    },
    {
      "cell_type": "markdown",
      "metadata": {
        "id": "2yUSe55VY-9t"
      },
      "source": [
        "### Create DataFrames to match tables"
      ]
    },
    {
      "cell_type": "code",
      "metadata": {
        "id": "C8REmY1aY-9u",
        "colab": {
          "base_uri": "https://localhost:8080/"
        },
        "outputId": "38a9052a-8679-4d51-d1cc-2b467f11e1de"
      },
      "source": [
        "from pyspark.sql.functions import to_date\n",
        "# Read in the Review dataset as a DataFrame\n",
        "cards_df.show()"
      ],
      "execution_count": 14,
      "outputs": [
        {
          "output_type": "stream",
          "name": "stdout",
          "text": [
            "+-----------+-----------+--------------+----------+--------------+--------------------+----------------+-----------+-------------+-----------+----+-----------------+--------------------+--------------------+-----------+\n",
            "|marketplace|customer_id|     review_id|product_id|product_parent|       product_title|product_category|star_rating|helpful_votes|total_votes|vine|verified_purchase|     review_headline|         review_body|review_date|\n",
            "+-----------+-----------+--------------+----------+--------------+--------------------+----------------+-----------+-------------+-----------+----+-----------------+--------------------+--------------------+-----------+\n",
            "|         US|   24371595|R27ZP1F1CD0C3Y|B004LLIL5A|     346014806|Amazon eGift Card...|       Gift Card|          5|            0|          0|   N|                Y|          Five Stars|Great birthday gi...| 2015-08-31|\n",
            "|         US|   42489718| RJ7RSBCHUDNNE|B004LLIKVU|     473048287|Amazon.com eGift ...|       Gift Card|          5|            0|          0|   N|                Y|Gift card for the...|It's an Amazon gi...| 2015-08-31|\n",
            "|         US|     861463|R1HVYBSKLQJI5S|B00IX1I3G6|     926539283|Amazon.com Gift C...|       Gift Card|          5|            0|          0|   N|                Y|          Five Stars|                Good| 2015-08-31|\n",
            "|         US|   25283295|R2HAXF0IIYQBIR|B00IX1I3G6|     926539283|Amazon.com Gift C...|       Gift Card|          1|            0|          0|   N|                Y|            One Star|                Fair| 2015-08-31|\n",
            "|         US|     397970| RNYLPX611NB7Q|B005ESMGV4|     379368939|Amazon.com Gift C...|       Gift Card|          5|            0|          0|   N|                Y|          Five Stars|I can't believe h...| 2015-08-31|\n",
            "|         US|   18513645|R3ALA9XXMBEDZR|B004KNWWU4|     326384774|Amazon Gift Card ...|       Gift Card|          5|            0|          0|   N|                Y|Perfect for most ...|Perfect!  Nice & ...| 2015-08-31|\n",
            "|         US|   22484620|R3R8PHAVJFTPDF|B004LLIKVU|     473048287|Amazon.com eGift ...|       Gift Card|          5|            0|          0|   N|                Y|          Five Stars|            excelent| 2015-08-31|\n",
            "|         US|   14765851|R18WWEK8OIXE30|BT00CTP2EE|     775486538|Amazon.com Gift C...|       Gift Card|          5|            0|          0|   N|                Y|          Five Stars|Great and Safe Gi...| 2015-08-31|\n",
            "|         US|   18751931|R1EGUNQON2J277|B004LLIKVU|     473048287|Amazon.com eGift ...|       Gift Card|          1|            0|          0|   N|                Y|            One Star|       What?????????| 2015-08-31|\n",
            "|         US|   15100528|R21Z4M4L98CPU2|B004W8D102|     595099956|Amazon Gift Card ...|       Gift Card|          5|            0|          0|   N|                Y|          Five Stars|This was just too...| 2015-08-31|\n",
            "|         US|    3559726| R6JH7A117FHFA|B004LLIKVU|     473048287|Amazon.com eGift ...|       Gift Card|          5|            0|          0|   N|                Y|          Five Stars|                Bien| 2015-08-31|\n",
            "|         US|   23413911|R1XZHS8M1GCGI7|B004KNWWU4|     326384774|Amazon Gift Card ...|       Gift Card|          5|            1|          1|   N|                Y|         Always good|Easy to print fro...| 2015-08-31|\n",
            "|         US|    2026222|R1DAI0N03SKRJN|B004LLIKVU|     473048287|Amazon.com eGift ...|       Gift Card|          5|            1|          1|   N|                Y|          Five Stars|Amazing with 10 d...| 2015-08-31|\n",
            "|         US|   32956435|R2F6SKZOEYQRU3|B004LLIKVU|     473048287|Amazon.com eGift ...|       Gift Card|          5|            0|          0|   N|                N|          Five Stars|Remember Matthew ...| 2015-08-31|\n",
            "|         US|   20241560| RIBOP6OEAZA47|B00H5BNLUS|     637715957|Amazon eGift Card...|       Gift Card|          5|            1|          1|   N|                Y|          Five Stars|                good| 2015-08-31|\n",
            "|         US|   10670435|R15H8E7WD6XD29|B004KNWX6C|     763371347|Amazon Gift Card ...|       Gift Card|          5|            0|          0|   N|                Y|          Five Stars|Awesome way to se...| 2015-08-31|\n",
            "|         US|   48872127| RVN4P3RU4F8IE|BT00CTOYC0|     506740729|Amazon.com $15 Gi...|       Gift Card|          5|            0|          0|   N|                Y|Quick Solution fo...|I love that I hav...| 2015-08-31|\n",
            "|         US|     460630| RCS8F9JCAAXC7|B004LLIKVU|     473048287|Amazon.com eGift ...|       Gift Card|          4|            0|          0|   N|                Y|          Four Stars|Good gift. Easy t...| 2015-08-31|\n",
            "|         US|   41238378| R6811C4E7UYL2|B00H5BMH44|      81025991|Amazon eGift Card...|       Gift Card|          5|            0|          0|   N|                Y|  Satisfied customer|Satisfied as usua...| 2015-08-31|\n",
            "|         US|   14222739|R196T0NZ73TYIM|B005ESMMKE|     459536087|Amazon.com Gift C...|       Gift Card|          5|            1|          1|   N|                Y|          Five Stars|                nice| 2015-08-31|\n",
            "+-----------+-----------+--------------+----------+--------------+--------------------+----------------+-----------+-------------+-----------+----+-----------------+--------------------+--------------------+-----------+\n",
            "only showing top 20 rows\n",
            "\n"
          ]
        }
      ]
    },
    {
      "cell_type": "code",
      "metadata": {
        "id": "lzMmkdKmY--D",
        "colab": {
          "base_uri": "https://localhost:8080/"
        },
        "outputId": "64d99c01-1332-4f4a-f24b-f4e22aed64ca"
      },
      "source": [
        "# Create the vine_table. DataFrame\n",
        "vine_df = cards_df.select([\"review_id\", \"star_rating\", \"helpful_votes\", \"total_votes\", \"vine\", \"verified_purchase\"])\n",
        "vine_df.show()"
      ],
      "execution_count": 6,
      "outputs": [
        {
          "output_type": "stream",
          "name": "stdout",
          "text": [
            "+--------------+-----------+-------------+-----------+----+-----------------+\n",
            "|     review_id|star_rating|helpful_votes|total_votes|vine|verified_purchase|\n",
            "+--------------+-----------+-------------+-----------+----+-----------------+\n",
            "|R27ZP1F1CD0C3Y|          5|            0|          0|   N|                Y|\n",
            "| RJ7RSBCHUDNNE|          5|            0|          0|   N|                Y|\n",
            "|R1HVYBSKLQJI5S|          5|            0|          0|   N|                Y|\n",
            "|R2HAXF0IIYQBIR|          1|            0|          0|   N|                Y|\n",
            "| RNYLPX611NB7Q|          5|            0|          0|   N|                Y|\n",
            "|R3ALA9XXMBEDZR|          5|            0|          0|   N|                Y|\n",
            "|R3R8PHAVJFTPDF|          5|            0|          0|   N|                Y|\n",
            "|R18WWEK8OIXE30|          5|            0|          0|   N|                Y|\n",
            "|R1EGUNQON2J277|          1|            0|          0|   N|                Y|\n",
            "|R21Z4M4L98CPU2|          5|            0|          0|   N|                Y|\n",
            "| R6JH7A117FHFA|          5|            0|          0|   N|                Y|\n",
            "|R1XZHS8M1GCGI7|          5|            1|          1|   N|                Y|\n",
            "|R1DAI0N03SKRJN|          5|            1|          1|   N|                Y|\n",
            "|R2F6SKZOEYQRU3|          5|            0|          0|   N|                N|\n",
            "| RIBOP6OEAZA47|          5|            1|          1|   N|                Y|\n",
            "|R15H8E7WD6XD29|          5|            0|          0|   N|                Y|\n",
            "| RVN4P3RU4F8IE|          5|            0|          0|   N|                Y|\n",
            "| RCS8F9JCAAXC7|          4|            0|          0|   N|                Y|\n",
            "| R6811C4E7UYL2|          5|            0|          0|   N|                Y|\n",
            "|R196T0NZ73TYIM|          5|            1|          1|   N|                Y|\n",
            "+--------------+-----------+-------------+-----------+----+-----------------+\n",
            "only showing top 20 rows\n",
            "\n"
          ]
        }
      ]
    },
    {
      "cell_type": "code",
      "metadata": {
        "id": "Exuo6ebUsCqW",
        "colab": {
          "base_uri": "https://localhost:8080/"
        },
        "outputId": "ad5ce46e-5106-4dfe-ae09-30f849b99706"
      },
      "source": [
        "# Filter DataFrame for total_votes count is equal to or greater than 20\n",
        "step1_df = vine_df.filter(vine_df.total_votes >= 20)\n",
        "step1_df.show()"
      ],
      "execution_count": 8,
      "outputs": [
        {
          "output_type": "stream",
          "name": "stdout",
          "text": [
            "+--------------+-----------+-------------+-----------+----+-----------------+\n",
            "|     review_id|star_rating|helpful_votes|total_votes|vine|verified_purchase|\n",
            "+--------------+-----------+-------------+-----------+----+-----------------+\n",
            "|R36PQ9D8L2AAOH|          5|           30|         32|   N|                Y|\n",
            "|R23GHBE86II0SK|          5|           18|         21|   N|                Y|\n",
            "|R18KVPY0TO33BM|          5|          241|        248|   N|                Y|\n",
            "|R2ZB78BDM8BRCF|          1|           99|        113|   N|                Y|\n",
            "|R2JMJOWGM7V7NX|          4|           20|         20|   N|                N|\n",
            "|R10ORTN0I3G5B9|          1|           19|         26|   N|                Y|\n",
            "|R1D1VPJBTP1WG8|          1|           38|         51|   N|                Y|\n",
            "|R3Q3ULUTULAQYH|          1|           22|         29|   N|                Y|\n",
            "|R1SHEELXA1IXQP|          5|           45|         57|   N|                Y|\n",
            "|R1IQJ99JOPJOE4|          5|           73|         94|   N|                N|\n",
            "|R32PHGNOUNJVY2|          1|          111|        150|   N|                Y|\n",
            "|R32HQ18L7FOP3N|          1|           18|         23|   N|                N|\n",
            "|R2IPGL0F4OCNO9|          1|           18|         24|   N|                N|\n",
            "| R4RNS35ZXYWSU|          2|           52|         59|   N|                Y|\n",
            "| R5S7HIQAWL5QS|          5|           48|         49|   N|                Y|\n",
            "|R12LGU9RL181NG|          1|         5987|       6323|   N|                Y|\n",
            "|R1ZMHE6AO0T6MO|          5|           67|         75|   N|                N|\n",
            "| R66RKRKYK3VMO|          5|           74|         89|   N|                Y|\n",
            "| R1SVG06BEMESM|          5|           92|        126|   N|                Y|\n",
            "|R1Q5MWSSP3RMYJ|          1|           25|         29|   N|                Y|\n",
            "+--------------+-----------+-------------+-----------+----+-----------------+\n",
            "only showing top 20 rows\n",
            "\n"
          ]
        }
      ]
    },
    {
      "cell_type": "code",
      "metadata": {
        "colab": {
          "base_uri": "https://localhost:8080/"
        },
        "id": "195d9EX8MVOR",
        "outputId": "6e246493-60bf-48f9-b21f-0dec600c243b"
      },
      "source": [
        "# Filter DataFrame for number of helpful_votes divided by total_votes is equal to or greater than 50%\n",
        "step2_df = step1_df.filter((step1_df.helpful_votes / step1_df.total_votes) >= 0.5)\n",
        "step2_df.show()"
      ],
      "execution_count": 9,
      "outputs": [
        {
          "output_type": "stream",
          "name": "stdout",
          "text": [
            "+--------------+-----------+-------------+-----------+----+-----------------+\n",
            "|     review_id|star_rating|helpful_votes|total_votes|vine|verified_purchase|\n",
            "+--------------+-----------+-------------+-----------+----+-----------------+\n",
            "|R36PQ9D8L2AAOH|          5|           30|         32|   N|                Y|\n",
            "|R23GHBE86II0SK|          5|           18|         21|   N|                Y|\n",
            "|R18KVPY0TO33BM|          5|          241|        248|   N|                Y|\n",
            "|R2ZB78BDM8BRCF|          1|           99|        113|   N|                Y|\n",
            "|R2JMJOWGM7V7NX|          4|           20|         20|   N|                N|\n",
            "|R10ORTN0I3G5B9|          1|           19|         26|   N|                Y|\n",
            "|R1D1VPJBTP1WG8|          1|           38|         51|   N|                Y|\n",
            "|R3Q3ULUTULAQYH|          1|           22|         29|   N|                Y|\n",
            "|R1SHEELXA1IXQP|          5|           45|         57|   N|                Y|\n",
            "|R1IQJ99JOPJOE4|          5|           73|         94|   N|                N|\n",
            "|R32PHGNOUNJVY2|          1|          111|        150|   N|                Y|\n",
            "|R32HQ18L7FOP3N|          1|           18|         23|   N|                N|\n",
            "|R2IPGL0F4OCNO9|          1|           18|         24|   N|                N|\n",
            "| R4RNS35ZXYWSU|          2|           52|         59|   N|                Y|\n",
            "| R5S7HIQAWL5QS|          5|           48|         49|   N|                Y|\n",
            "|R12LGU9RL181NG|          1|         5987|       6323|   N|                Y|\n",
            "|R1ZMHE6AO0T6MO|          5|           67|         75|   N|                N|\n",
            "| R66RKRKYK3VMO|          5|           74|         89|   N|                Y|\n",
            "| R1SVG06BEMESM|          5|           92|        126|   N|                Y|\n",
            "|R1Q5MWSSP3RMYJ|          1|           25|         29|   N|                Y|\n",
            "+--------------+-----------+-------------+-----------+----+-----------------+\n",
            "only showing top 20 rows\n",
            "\n"
          ]
        }
      ]
    },
    {
      "cell_type": "code",
      "metadata": {
        "colab": {
          "base_uri": "https://localhost:8080/"
        },
        "id": "ZDytQP9uNkHH",
        "outputId": "dfa14d87-c712-497e-bb06-45c64e22f847"
      },
      "source": [
        "# Filter DataFrame for number of reviews written as part of the Vine program\n",
        "step3_paid_df = step2_df.filter(step2_df.vine == 'Y')\n",
        "step3_paid_df.show()"
      ],
      "execution_count": 18,
      "outputs": [
        {
          "output_type": "stream",
          "name": "stdout",
          "text": [
            "+---------+-----------+-------------+-----------+----+-----------------+\n",
            "|review_id|star_rating|helpful_votes|total_votes|vine|verified_purchase|\n",
            "+---------+-----------+-------------+-----------+----+-----------------+\n",
            "+---------+-----------+-------------+-----------+----+-----------------+\n",
            "\n"
          ]
        }
      ]
    },
    {
      "cell_type": "code",
      "metadata": {
        "colab": {
          "base_uri": "https://localhost:8080/"
        },
        "id": "utaoVhy3QTDp",
        "outputId": "0f1100cc-486b-43b4-f926-a8c2fba73308"
      },
      "source": [
        "# Filter DataFrame for number of reviews written as part of the Vine program\n",
        "step3_unpaid_df = step2_df.filter(step2_df.vine == 'N')\n",
        "step3_unpaid_df.show()"
      ],
      "execution_count": 19,
      "outputs": [
        {
          "output_type": "stream",
          "name": "stdout",
          "text": [
            "+--------------+-----------+-------------+-----------+----+-----------------+\n",
            "|     review_id|star_rating|helpful_votes|total_votes|vine|verified_purchase|\n",
            "+--------------+-----------+-------------+-----------+----+-----------------+\n",
            "|R36PQ9D8L2AAOH|          5|           30|         32|   N|                Y|\n",
            "|R23GHBE86II0SK|          5|           18|         21|   N|                Y|\n",
            "|R18KVPY0TO33BM|          5|          241|        248|   N|                Y|\n",
            "|R2ZB78BDM8BRCF|          1|           99|        113|   N|                Y|\n",
            "|R2JMJOWGM7V7NX|          4|           20|         20|   N|                N|\n",
            "|R10ORTN0I3G5B9|          1|           19|         26|   N|                Y|\n",
            "|R1D1VPJBTP1WG8|          1|           38|         51|   N|                Y|\n",
            "|R3Q3ULUTULAQYH|          1|           22|         29|   N|                Y|\n",
            "|R1SHEELXA1IXQP|          5|           45|         57|   N|                Y|\n",
            "|R1IQJ99JOPJOE4|          5|           73|         94|   N|                N|\n",
            "|R32PHGNOUNJVY2|          1|          111|        150|   N|                Y|\n",
            "|R32HQ18L7FOP3N|          1|           18|         23|   N|                N|\n",
            "|R2IPGL0F4OCNO9|          1|           18|         24|   N|                N|\n",
            "| R4RNS35ZXYWSU|          2|           52|         59|   N|                Y|\n",
            "| R5S7HIQAWL5QS|          5|           48|         49|   N|                Y|\n",
            "|R12LGU9RL181NG|          1|         5987|       6323|   N|                Y|\n",
            "|R1ZMHE6AO0T6MO|          5|           67|         75|   N|                N|\n",
            "| R66RKRKYK3VMO|          5|           74|         89|   N|                Y|\n",
            "| R1SVG06BEMESM|          5|           92|        126|   N|                Y|\n",
            "|R1Q5MWSSP3RMYJ|          1|           25|         29|   N|                Y|\n",
            "+--------------+-----------+-------------+-----------+----+-----------------+\n",
            "only showing top 20 rows\n",
            "\n"
          ]
        }
      ]
    },
    {
      "cell_type": "code",
      "metadata": {
        "id": "x_lnfZ55YAxJ"
      },
      "source": [
        "## Step 3 results in zero number of reviews written as part of the Vine program\n",
        "# so I recalculated and discovered there were no reviews written as part of the Vine program"
      ],
      "execution_count": 34,
      "outputs": []
    },
    {
      "cell_type": "code",
      "metadata": {
        "colab": {
          "base_uri": "https://localhost:8080/"
        },
        "id": "MdDK0Jz-YA9Z",
        "outputId": "f301c4c8-3b5e-4714-93f4-35b3f9eb8222"
      },
      "source": [
        "# Filter DataFrame for number of reviews written as part of the Vine program\n",
        "x_paid = vine_df.filter(vine_df.vine == 'N').count()\n",
        "x_paid"
      ],
      "execution_count": 39,
      "outputs": [
        {
          "output_type": "execute_result",
          "data": {
            "text/plain": [
              "149086"
            ]
          },
          "metadata": {},
          "execution_count": 39
        }
      ]
    },
    {
      "cell_type": "code",
      "metadata": {
        "colab": {
          "base_uri": "https://localhost:8080/"
        },
        "id": "HhsLBoJmQmH3",
        "outputId": "f5969352-f0f6-4249-8191-1580a46903c4"
      },
      "source": [
        "# the total number of reviews\n",
        "total_reviews = vine_df.count()\n",
        "total_reviews"
      ],
      "execution_count": 17,
      "outputs": [
        {
          "output_type": "execute_result",
          "data": {
            "text/plain": [
              "149086"
            ]
          },
          "metadata": {},
          "execution_count": 17
        }
      ]
    },
    {
      "cell_type": "code",
      "metadata": {
        "colab": {
          "base_uri": "https://localhost:8080/"
        },
        "id": "VftAtFKCSJnw",
        "outputId": "aee85585-3d13-46f5-8748-457dfd91cc00"
      },
      "source": [
        "# the total number of paid reviews\n",
        "paid_reviews = step3_paid_df.count()\n",
        "paid_reviews"
      ],
      "execution_count": 20,
      "outputs": [
        {
          "output_type": "execute_result",
          "data": {
            "text/plain": [
              "0"
            ]
          },
          "metadata": {},
          "execution_count": 20
        }
      ]
    },
    {
      "cell_type": "code",
      "metadata": {
        "colab": {
          "base_uri": "https://localhost:8080/"
        },
        "id": "K5dXxwiLSxcZ",
        "outputId": "70b2ed78-2e31-4bf3-985a-7cc8e0149e86"
      },
      "source": [
        "# the total number of unpaid reviews\n",
        "unpaid_reviews = step3_unpaid_df.count()\n",
        "unpaid_reviews"
      ],
      "execution_count": 21,
      "outputs": [
        {
          "output_type": "execute_result",
          "data": {
            "text/plain": [
              "355"
            ]
          },
          "metadata": {},
          "execution_count": 21
        }
      ]
    },
    {
      "cell_type": "code",
      "metadata": {
        "colab": {
          "base_uri": "https://localhost:8080/"
        },
        "id": "gSwPNWw8UuXP",
        "outputId": "4c0fa24a-3e09-44b8-e42b-7d0d97dceb8b"
      },
      "source": [
        "# the number of 5-star reviews\n",
        "total_stars = vine_df.filter(vine_df.star_rating == 5).count()\n",
        "total_stars"
      ],
      "execution_count": 27,
      "outputs": [
        {
          "output_type": "execute_result",
          "data": {
            "text/plain": [
              "129709"
            ]
          },
          "metadata": {},
          "execution_count": 27
        }
      ]
    },
    {
      "cell_type": "code",
      "metadata": {
        "colab": {
          "base_uri": "https://localhost:8080/"
        },
        "id": "llc872PbQmQr",
        "outputId": "f264b9f1-fe9f-4031-dd99-f53dbc1a7d7e"
      },
      "source": [
        "# the number of 5-star paid reviews\n",
        "paid_stars = step3_paid_df.filter(step3_paid_df.star_rating == 5).count()\n",
        "paid_reviews\n"
      ],
      "execution_count": 29,
      "outputs": [
        {
          "output_type": "execute_result",
          "data": {
            "text/plain": [
              "0"
            ]
          },
          "metadata": {},
          "execution_count": 29
        }
      ]
    },
    {
      "cell_type": "code",
      "metadata": {
        "colab": {
          "base_uri": "https://localhost:8080/"
        },
        "id": "-t7TAPtJUfwG",
        "outputId": "41c056a7-5ef4-4e40-96d6-e7fa2e7bd245"
      },
      "source": [
        "# the number of 5-star unpaid reviews\n",
        "unpaid_stars = step3_unpaid_df.filter(step3_unpaid_df.star_rating == 5).count()\n",
        "unpaid_stars"
      ],
      "execution_count": 28,
      "outputs": [
        {
          "output_type": "execute_result",
          "data": {
            "text/plain": [
              "90"
            ]
          },
          "metadata": {},
          "execution_count": 28
        }
      ]
    },
    {
      "cell_type": "code",
      "metadata": {
        "colab": {
          "base_uri": "https://localhost:8080/",
          "height": 200
        },
        "id": "Op-RfIynQmbZ",
        "outputId": "7b163384-cf83-4f1e-e592-5c6bbcb317b3"
      },
      "source": [
        "# the percentage of 5-star reviews for the two types of review - paid\n",
        "paid_star_percent = (paid_stars / paid_reviews) *100\n",
        "paid_star_percent"
      ],
      "execution_count": 32,
      "outputs": [
        {
          "output_type": "error",
          "ename": "ZeroDivisionError",
          "evalue": "ignored",
          "traceback": [
            "\u001b[0;31m---------------------------------------------------------------------------\u001b[0m",
            "\u001b[0;31mZeroDivisionError\u001b[0m                         Traceback (most recent call last)",
            "\u001b[0;32m<ipython-input-32-c5e4f65c1575>\u001b[0m in \u001b[0;36m<module>\u001b[0;34m()\u001b[0m\n\u001b[1;32m      1\u001b[0m \u001b[0;31m# the percentage of 5-star reviews for the two types of review - paid\u001b[0m\u001b[0;34m\u001b[0m\u001b[0;34m\u001b[0m\u001b[0;34m\u001b[0m\u001b[0m\n\u001b[0;32m----> 2\u001b[0;31m \u001b[0mpaid_star_percent\u001b[0m \u001b[0;34m=\u001b[0m \u001b[0;34m(\u001b[0m\u001b[0mpaid_stars\u001b[0m \u001b[0;34m/\u001b[0m \u001b[0mpaid_reviews\u001b[0m\u001b[0;34m)\u001b[0m \u001b[0;34m*\u001b[0m\u001b[0;36m100\u001b[0m\u001b[0;34m\u001b[0m\u001b[0;34m\u001b[0m\u001b[0m\n\u001b[0m\u001b[1;32m      3\u001b[0m \u001b[0mpaid_star_percent\u001b[0m\u001b[0;34m\u001b[0m\u001b[0;34m\u001b[0m\u001b[0m\n",
            "\u001b[0;31mZeroDivisionError\u001b[0m: division by zero"
          ]
        }
      ]
    },
    {
      "cell_type": "code",
      "metadata": {
        "colab": {
          "base_uri": "https://localhost:8080/"
        },
        "id": "zEfKtiMlQ0IC",
        "outputId": "3417ac47-4b9a-412f-c3db-3712d6d3b826"
      },
      "source": [
        "# the percentage of 5-star reviews for the two types of review - unpaid\n",
        "unpaid_star_percent = (unpaid_stars / unpaid_reviews) *100\n",
        "unpaid_star_percent"
      ],
      "execution_count": 33,
      "outputs": [
        {
          "output_type": "execute_result",
          "data": {
            "text/plain": [
              "25.352112676056336"
            ]
          },
          "metadata": {},
          "execution_count": 33
        }
      ]
    }
  ]
}